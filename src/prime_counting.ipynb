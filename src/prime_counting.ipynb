{
 "cells": [
  {
   "cell_type": "code",
   "execution_count": 1,
   "id": "76278f87",
   "metadata": {},
   "outputs": [],
   "source": [
    "from sympy.ntheory.factor_ import factorint\n",
    "from sympy.ntheory.generate import sieve, primerange, prevprime\n",
    "from math import isqrt\n",
    "from gmpy2 import iroot\n",
    "from itertools import count\n",
    "sieve.extend(10_000)\n",
    "\n",
    "def primepi_naive(x):\n",
    "    return len(list(sieve.primerange(x+1)))\n",
    "\n",
    "primepi = primepi_naive\n",
    "\n",
    "def phi(x, y):\n",
    "    return 1 + len([n for n in range(2, x + 1) if y < min(factorint(n).keys())])"
   ]
  },
  {
   "cell_type": "markdown",
   "id": "5cbc5fc1",
   "metadata": {},
   "source": [
    "命題1 : $\\pi(x) - \\pi(\\sqrt{x}) + 1 = \\phi(x, \\sqrt{x})$"
   ]
  },
  {
   "cell_type": "code",
   "execution_count": 2,
   "id": "89138a82",
   "metadata": {},
   "outputs": [],
   "source": [
    "for x in range(1, 300):\n",
    "    sq_x = isqrt(x)\n",
    "    assert primepi(x) - primepi(sq_x) + 1 == phi(x, sq_x)"
   ]
  },
  {
   "cell_type": "code",
   "execution_count": 3,
   "id": "dadde045",
   "metadata": {},
   "outputs": [],
   "source": [
    "def phi(x, y, k=None):\n",
    "    if k is None:\n",
    "        return 1 + len([n for n in range(2, x + 1) if y < min(factorint(n).keys())])\n",
    "    if k == 0:\n",
    "        return 1\n",
    "    cnt = 0\n",
    "    for n in range(2, x + 1):\n",
    "        factors = factorint(n)\n",
    "        if sum(factors.values()) == k and y < min(factors.keys()):\n",
    "            cnt += 1\n",
    "    return cnt"
   ]
  },
  {
   "cell_type": "markdown",
   "id": "d651985c",
   "metadata": {},
   "source": [
    "命題2 : $\\phi(x, y) = \\phi_0(x, y) + \\phi_1(x, y) + \\phi_2(x, y) + \\cdots$\n",
    "\n",
    "ここで、$y^k \\ge x$ なら $\\phi_k(x,y) = 0$"
   ]
  },
  {
   "cell_type": "code",
   "execution_count": 4,
   "id": "70c92b3b",
   "metadata": {},
   "outputs": [],
   "source": [
    "for x in range(1, 100):\n",
    "    for y in primerange(x):\n",
    "        p1 = phi(x, y)\n",
    "        p2 = 0\n",
    "        for k in count():\n",
    "            if y**k >= x:\n",
    "                break\n",
    "            p2 += phi(x, y, k)\n",
    "        assert p1 == p2, (x, y)"
   ]
  },
  {
   "cell_type": "markdown",
   "id": "91147d66",
   "metadata": {},
   "source": [
    "系3:\n",
    "* $\\phi(x, x^{1/2}) = 1 + \\pi(x) - \\pi(x^{1/2})$ (命題1)\n",
    "* $\\phi(x, x^{1/3}) = 1 + \\pi(x) - \\pi(x^{1/3}) + \\phi_2(x, x^{1/3})$\n",
    "* $\\phi(x, x^{1/4}) = 1 + \\pi(x) - \\pi(x^{1/4}) + \\phi_2(x, x^{1/4}) + \\phi_3(x, x^{1/4})$"
   ]
  },
  {
   "cell_type": "code",
   "execution_count": 5,
   "id": "482601c4",
   "metadata": {},
   "outputs": [],
   "source": [
    "for x in range(1, 300):\n",
    "    sq3_x = int(iroot(x, 3)[0])\n",
    "    assert phi(x, sq3_x) == 1 + primepi(x) - primepi(sq3_x) + phi(x, sq3_x, 2)\n",
    "    \n",
    "for x in range(1, 300):\n",
    "    sq4_x = int(iroot(x, 4)[0])\n",
    "    assert phi(x, sq4_x) == 1 + primepi(x) - primepi(sq4_x) + phi(x, sq4_x, 2) + phi(x, sq4_x, 3)"
   ]
  },
  {
   "cell_type": "markdown",
   "id": "a28e7fbf",
   "metadata": {},
   "source": [
    "命題4:\n",
    "\n",
    "\\begin{align*}\n",
    "\\phi_2(x, x^{1/3}) = {\\pi(x^{1/3}) \\choose 2} - {\\pi(x^{1/2}) \\choose 2} + \\sum_{x^{1/3}< p \\le x^{1/2}} \\pi(x / p)\n",
    "\\end{align*}"
   ]
  },
  {
   "cell_type": "code",
   "execution_count": 6,
   "id": "10ddbc96",
   "metadata": {},
   "outputs": [],
   "source": [
    "def prop4_naive(x):\n",
    "    \"\"\" \\phi_2(x, x^{1/3}) を計算する\n",
    "    \"\"\"\n",
    "    sq2_x = isqrt(x)\n",
    "    sq3_x = int(iroot(x, 3)[0])\n",
    "    c1 = primepi(sq3_x)\n",
    "    c1 = c1*(c1 - 1) // 2\n",
    "    c2 = primepi(sq2_x)\n",
    "    c2 = c2*(c2 - 1) // 2\n",
    "    c3 = 0\n",
    "    for p in primerange(sq3_x+1, sq2_x + 1):\n",
    "        c3 += primepi(x // p)\n",
    "    return c1 - c2 + c3"
   ]
  },
  {
   "cell_type": "code",
   "execution_count": 7,
   "id": "992aae81",
   "metadata": {},
   "outputs": [],
   "source": [
    "for x in range(1, 300):\n",
    "    assert prop4_naive(x) == phi(x, int(iroot(x, 3)[0]), 2)"
   ]
  },
  {
   "cell_type": "code",
   "execution_count": null,
   "id": "67408be0",
   "metadata": {},
   "outputs": [],
   "source": []
  },
  {
   "cell_type": "markdown",
   "id": "7cd8ffbd",
   "metadata": {},
   "source": [
    "$p_a$を$a$番目の素数とする。($p_1 = 2, p_2 = 3, p_3 = 5$)\n",
    "\n",
    "命題5 : $\\phi(x, p_a) = \\phi(x, p_{a-1}) - \\phi(x / p_a, p_{a-1})$\n"
   ]
  },
  {
   "cell_type": "code",
   "execution_count": 8,
   "id": "2e1a3f26",
   "metadata": {},
   "outputs": [],
   "source": [
    "for x in range(1, 100):\n",
    "    for p in primerange(3, x):\n",
    "        assert phi(x, p) == phi(x, prevprime(p)) - phi(x // p, prevprime(p))"
   ]
  },
  {
   "cell_type": "markdown",
   "id": "98ca0a31",
   "metadata": {},
   "source": [
    "命題6 : \n",
    "\\begin{align*}\n",
    "\\phi(x, p_a) = \\sum_{n \\mid p_2p_3\\dots p_a} \\mu(n)\\left\\lfloor \\frac{x/n + 1}{2} \\right\\rfloor\n",
    "\\end{align*}"
   ]
  },
  {
   "cell_type": "code",
   "execution_count": 9,
   "id": "27bfb299",
   "metadata": {},
   "outputs": [],
   "source": [
    "def prop6_naive(x, p):\n",
    "    s = (x+1) >> 1\n",
    "    primes = list(primerange(3, p+1))\n",
    "    stack = [(0, 1, 1)]\n",
    "    while stack:\n",
    "        idx, n, mu = stack.pop()\n",
    "        np = n*primes[idx]\n",
    "        if x < np:\n",
    "            continue\n",
    "        idx += 1\n",
    "        if idx < len(primes):\n",
    "            stack.append((idx, n, mu))\n",
    "            stack.append((idx, np, -mu))\n",
    "        s -= mu * ((x // np + 1) // 2)\n",
    "    return s"
   ]
  },
  {
   "cell_type": "code",
   "execution_count": 10,
   "id": "89b5cd30",
   "metadata": {},
   "outputs": [],
   "source": [
    "for x in range(1, 100):\n",
    "    for p in primerange(3, x):\n",
    "        assert phi(x, p) == prop6_naive(x, p)"
   ]
  },
  {
   "cell_type": "code",
   "execution_count": null,
   "id": "8cd6f735",
   "metadata": {},
   "outputs": [],
   "source": []
  }
 ],
 "metadata": {
  "kernelspec": {
   "display_name": "Python 3 (ipykernel)",
   "language": "python",
   "name": "python3"
  },
  "language_info": {
   "codemirror_mode": {
    "name": "ipython",
    "version": 3
   },
   "file_extension": ".py",
   "mimetype": "text/x-python",
   "name": "python",
   "nbconvert_exporter": "python",
   "pygments_lexer": "ipython3",
   "version": "3.11.1"
  }
 },
 "nbformat": 4,
 "nbformat_minor": 5
}
