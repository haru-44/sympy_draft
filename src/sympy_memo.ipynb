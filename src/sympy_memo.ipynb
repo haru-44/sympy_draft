{
 "cells": [
  {
   "cell_type": "markdown",
   "id": "20b60482",
   "metadata": {},
   "source": [
    "# 基本"
   ]
  },
  {
   "cell_type": "markdown",
   "id": "949b3739",
   "metadata": {},
   "source": [
    "※importは、`from sympy import hogehoge` で可能"
   ]
  },
  {
   "cell_type": "markdown",
   "id": "74031922",
   "metadata": {},
   "source": [
    "## 変数の宣言\n",
    "\n",
    "`Symbol`でも`symbols`でも可能なので、好みの問題はあるが、複数変数を宣言できる`symbols`の方が使いやすいか"
   ]
  },
  {
   "cell_type": "code",
   "execution_count": 1,
   "id": "a9589785",
   "metadata": {},
   "outputs": [],
   "source": [
    "from sympy.core.symbol import Symbol\n",
    "\n",
    "x = Symbol('x')"
   ]
  },
  {
   "cell_type": "code",
   "execution_count": 2,
   "id": "95eb491a",
   "metadata": {},
   "outputs": [],
   "source": [
    "from sympy.core.symbol import symbols\n",
    "\n",
    "x = symbols('x')\n",
    "x, y = symbols('x y')\n",
    "xs = symbols(' '.join(f'x_{i}' for i in range(10)))"
   ]
  },
  {
   "cell_type": "markdown",
   "id": "ddf150bc",
   "metadata": {},
   "source": [
    "## 式の定義"
   ]
  },
  {
   "cell_type": "code",
   "execution_count": 3,
   "id": "0f024728",
   "metadata": {},
   "outputs": [
    {
     "data": {
      "text/latex": [
       "$\\displaystyle x^{2} + 4 x + 3$"
      ],
      "text/plain": [
       "x**2 + 4*x + 3"
      ]
     },
     "metadata": {},
     "output_type": "display_data"
    }
   ],
   "source": [
    "display(x**2 + 4*x + 3)"
   ]
  },
  {
   "cell_type": "markdown",
   "id": "25c548bb",
   "metadata": {},
   "source": [
    "## 定数"
   ]
  },
  {
   "cell_type": "code",
   "execution_count": 4,
   "id": "b18d954e",
   "metadata": {},
   "outputs": [
    {
     "data": {
      "text/latex": [
       "$\\displaystyle \\pi$"
      ],
      "text/plain": [
       "pi"
      ]
     },
     "metadata": {},
     "output_type": "display_data"
    },
    {
     "data": {
      "text/latex": [
       "$\\displaystyle e$"
      ],
      "text/plain": [
       "E"
      ]
     },
     "metadata": {},
     "output_type": "display_data"
    }
   ],
   "source": [
    "# 円周率、ネイピア数\n",
    "from sympy.core.numbers import pi, E\n",
    "\n",
    "display(pi)\n",
    "display(E)"
   ]
  },
  {
   "cell_type": "code",
   "execution_count": 5,
   "id": "5739ca37",
   "metadata": {},
   "outputs": [
    {
     "data": {
      "text/latex": [
       "$\\displaystyle \\infty$"
      ],
      "text/plain": [
       "oo"
      ]
     },
     "metadata": {},
     "output_type": "display_data"
    }
   ],
   "source": [
    "# 無限\n",
    "from sympy.core.numbers import oo\n",
    "\n",
    "display(oo)"
   ]
  },
  {
   "cell_type": "markdown",
   "id": "4fb5ea3f",
   "metadata": {},
   "source": [
    "## 有理数, 整数"
   ]
  },
  {
   "cell_type": "code",
   "execution_count": 6,
   "id": "6b4f6920",
   "metadata": {},
   "outputs": [
    {
     "data": {
      "text/latex": [
       "$\\displaystyle \\frac{3}{4}$"
      ],
      "text/plain": [
       "3/4"
      ]
     },
     "metadata": {},
     "output_type": "display_data"
    },
    {
     "data": {
      "text/latex": [
       "$\\displaystyle 6$"
      ],
      "text/plain": [
       "6"
      ]
     },
     "metadata": {},
     "output_type": "display_data"
    }
   ],
   "source": [
    "from sympy import Rational, Integer\n",
    "\n",
    "display(Rational(3, 4))\n",
    "display(Integer(6))"
   ]
  },
  {
   "cell_type": "markdown",
   "id": "116a58db",
   "metadata": {},
   "source": [
    "## 代入 `subs`"
   ]
  },
  {
   "cell_type": "code",
   "execution_count": 7,
   "id": "e0bca423",
   "metadata": {},
   "outputs": [
    {
     "data": {
      "text/latex": [
       "$\\displaystyle 8$"
      ],
      "text/plain": [
       "8"
      ]
     },
     "metadata": {},
     "output_type": "display_data"
    }
   ],
   "source": [
    "# x = 1を代入\n",
    "display((x**2 + 4*x + 3).subs(x, 1))"
   ]
  },
  {
   "cell_type": "code",
   "execution_count": 8,
   "id": "f2bd7b74",
   "metadata": {},
   "outputs": [
    {
     "data": {
      "text/latex": [
       "$\\displaystyle y^{2} + 4 y + 3$"
      ],
      "text/plain": [
       "y**2 + 4*y + 3"
      ]
     },
     "metadata": {},
     "output_type": "display_data"
    }
   ],
   "source": [
    "# x = y を代入\n",
    "display((x**2 + 4*y + 3).subs(x, y))"
   ]
  },
  {
   "cell_type": "code",
   "execution_count": 9,
   "id": "c4a146c5",
   "metadata": {},
   "outputs": [
    {
     "data": {
      "text/latex": [
       "$\\displaystyle 12$"
      ],
      "text/plain": [
       "12"
      ]
     },
     "metadata": {},
     "output_type": "display_data"
    }
   ],
   "source": [
    "# x = 1, y = 2 を代入\n",
    "display((x**2 + 4*y + 3).subs([(x, 1), (y, 2)]))"
   ]
  },
  {
   "cell_type": "markdown",
   "id": "b7fc921c",
   "metadata": {},
   "source": [
    "## 展開 `expand` と因数分解 `factor`"
   ]
  },
  {
   "cell_type": "code",
   "execution_count": 10,
   "id": "d139eba4",
   "metadata": {},
   "outputs": [
    {
     "data": {
      "text/latex": [
       "$\\displaystyle x^{2} + 2 x + 1$"
      ],
      "text/plain": [
       "x**2 + 2*x + 1"
      ]
     },
     "execution_count": 10,
     "metadata": {},
     "output_type": "execute_result"
    }
   ],
   "source": [
    "# 展開\n",
    "((x+1)**2).expand()"
   ]
  },
  {
   "cell_type": "code",
   "execution_count": 11,
   "id": "22112a73",
   "metadata": {},
   "outputs": [
    {
     "data": {
      "text/latex": [
       "$\\displaystyle \\left(x + 1\\right)^{2}$"
      ],
      "text/plain": [
       "(x + 1)**2"
      ]
     },
     "execution_count": 11,
     "metadata": {},
     "output_type": "execute_result"
    }
   ],
   "source": [
    "# 因数分解\n",
    "(x**2 + 2*x + 1).factor()"
   ]
  },
  {
   "cell_type": "markdown",
   "id": "db3afcbc",
   "metadata": {},
   "source": [
    "## 簡単化 `simplify`"
   ]
  },
  {
   "cell_type": "code",
   "execution_count": 12,
   "id": "4f558970",
   "metadata": {},
   "outputs": [
    {
     "data": {
      "text/latex": [
       "$\\displaystyle - x^{2} - 2 x + \\left(x + 1\\right)^{2} - 1$"
      ],
      "text/plain": [
       "-x**2 - 2*x + (x + 1)**2 - 1"
      ]
     },
     "metadata": {},
     "output_type": "display_data"
    },
    {
     "data": {
      "text/latex": [
       "$\\displaystyle 0$"
      ],
      "text/plain": [
       "0"
      ]
     },
     "metadata": {},
     "output_type": "display_data"
    }
   ],
   "source": [
    "expr = (x+1)**2 - (x**2 + 2*x + 1)\n",
    "display(expr)\n",
    "display(expr.simplify())"
   ]
  },
  {
   "cell_type": "markdown",
   "id": "9eab82eb",
   "metadata": {},
   "source": [
    "## 約分 `cancel`"
   ]
  },
  {
   "cell_type": "code",
   "execution_count": 13,
   "id": "2108b388",
   "metadata": {},
   "outputs": [
    {
     "data": {
      "text/latex": [
       "$\\displaystyle \\frac{3 x^{2} - 2 x - 8}{2 x^{2} - 8 x}$"
      ],
      "text/plain": [
       "(3*x**2 - 2*x - 8)/(2*x**2 - 8*x)"
      ]
     },
     "metadata": {},
     "output_type": "display_data"
    }
   ],
   "source": [
    "expr = 1/x + (3*x/2 - 2) / (x - 4)\n",
    "display(expr.cancel())"
   ]
  },
  {
   "cell_type": "markdown",
   "id": "dfa230d6",
   "metadata": {},
   "source": [
    "## 求解 `solve`"
   ]
  },
  {
   "cell_type": "code",
   "execution_count": 14,
   "id": "a21be681",
   "metadata": {},
   "outputs": [
    {
     "data": {
      "text/plain": [
       "[-4, 2]"
      ]
     },
     "metadata": {},
     "output_type": "display_data"
    },
    {
     "data": {
      "text/plain": [
       "[-1 - sqrt(7)*I, -1 + sqrt(7)*I]"
      ]
     },
     "metadata": {},
     "output_type": "display_data"
    }
   ],
   "source": [
    "from sympy.solvers.solvers import solve\n",
    "\n",
    "display(solve(x**2 + 2*x - 8))\n",
    "display(solve(x**2 + 2*x + 8))"
   ]
  },
  {
   "cell_type": "code",
   "execution_count": 15,
   "id": "e0f8620b",
   "metadata": {},
   "outputs": [
    {
     "data": {
      "text/plain": [
       "[{x: 4 - 3*y**2}]"
      ]
     },
     "metadata": {},
     "output_type": "display_data"
    },
    {
     "data": {
      "text/plain": [
       "[4 - 3*y**2]"
      ]
     },
     "metadata": {},
     "output_type": "display_data"
    },
    {
     "data": {
      "text/plain": [
       "[-sqrt(12 - 3*x)/3, sqrt(12 - 3*x)/3]"
      ]
     },
     "metadata": {},
     "output_type": "display_data"
    }
   ],
   "source": [
    "# 多変数関数の場合\n",
    "display(solve(x + 3*y**2 - 4))\n",
    "display(solve(x + 3*y**2 - 4, x))\n",
    "display(solve(x + 3*y**2 - 4, y))"
   ]
  },
  {
   "cell_type": "code",
   "execution_count": 16,
   "id": "57fbbce0",
   "metadata": {},
   "outputs": [
    {
     "data": {
      "text/plain": [
       "{x: -45/53, y: -56/53}"
      ]
     },
     "metadata": {},
     "output_type": "display_data"
    }
   ],
   "source": [
    "# 連立方程式を解く\n",
    "display(solve([3*x + 8*y + 11, 4*x - 7*y -4]))"
   ]
  },
  {
   "cell_type": "markdown",
   "id": "475e951b",
   "metadata": {},
   "source": [
    "## 関係 `Eq`, `Ge`, `Le`"
   ]
  },
  {
   "cell_type": "code",
   "execution_count": 17,
   "id": "8d0f98b2",
   "metadata": {},
   "outputs": [
    {
     "data": {
      "text/latex": [
       "$\\displaystyle x^{2} + x = 3$"
      ],
      "text/plain": [
       "Eq(x**2 + x, 3)"
      ]
     },
     "metadata": {},
     "output_type": "display_data"
    },
    {
     "data": {
      "text/latex": [
       "$\\displaystyle x^{2} + x \\geq 3$"
      ],
      "text/plain": [
       "x**2 + x >= 3"
      ]
     },
     "metadata": {},
     "output_type": "display_data"
    },
    {
     "data": {
      "text/latex": [
       "$\\displaystyle x^{2} + x \\leq 3$"
      ],
      "text/plain": [
       "x**2 + x <= 3"
      ]
     },
     "metadata": {},
     "output_type": "display_data"
    }
   ],
   "source": [
    "from sympy.core.relational import Eq, Ge, Le\n",
    "\n",
    "display(Eq(x**2 + x, 3))\n",
    "display(Ge(x**2 + x, 3))\n",
    "display(Le(x**2 + x, 3))"
   ]
  },
  {
   "cell_type": "markdown",
   "id": "f8c97369",
   "metadata": {},
   "source": [
    "## 微分 `diff`"
   ]
  },
  {
   "cell_type": "code",
   "execution_count": 18,
   "id": "0299d4d8",
   "metadata": {},
   "outputs": [
    {
     "data": {
      "text/latex": [
       "$\\displaystyle 3 x^{2} + 2 x$"
      ],
      "text/plain": [
       "3*x**2 + 2*x"
      ]
     },
     "metadata": {},
     "output_type": "display_data"
    }
   ],
   "source": [
    "display((x**3 + x**2 + 1).diff())"
   ]
  },
  {
   "cell_type": "code",
   "execution_count": 19,
   "id": "793bc94f",
   "metadata": {},
   "outputs": [
    {
     "data": {
      "text/latex": [
       "$\\displaystyle 3 x^{2} + 2 x y$"
      ],
      "text/plain": [
       "3*x**2 + 2*x*y"
      ]
     },
     "metadata": {},
     "output_type": "display_data"
    },
    {
     "data": {
      "text/latex": [
       "$\\displaystyle x^{2} + 2 y$"
      ],
      "text/plain": [
       "x**2 + 2*y"
      ]
     },
     "metadata": {},
     "output_type": "display_data"
    }
   ],
   "source": [
    "# 偏微分\n",
    "expr = x**3 + x**2*y + 1 + y**2\n",
    "display(expr.diff(x))\n",
    "display(expr.diff(y))"
   ]
  },
  {
   "cell_type": "markdown",
   "id": "52104a1a",
   "metadata": {},
   "source": [
    "## 積分 `integrate`"
   ]
  },
  {
   "cell_type": "code",
   "execution_count": 20,
   "id": "2fba32b1",
   "metadata": {},
   "outputs": [
    {
     "data": {
      "text/latex": [
       "$\\displaystyle \\frac{x^{4}}{4} + \\frac{x^{3}}{3} + x$"
      ],
      "text/plain": [
       "x**4/4 + x**3/3 + x"
      ]
     },
     "metadata": {},
     "output_type": "display_data"
    }
   ],
   "source": [
    "display((x**3 + x**2 + 1).integrate())"
   ]
  },
  {
   "cell_type": "code",
   "execution_count": 21,
   "id": "90dccdb0",
   "metadata": {
    "scrolled": true
   },
   "outputs": [
    {
     "data": {
      "text/latex": [
       "$\\displaystyle \\frac{85}{12}$"
      ],
      "text/plain": [
       "85/12"
      ]
     },
     "metadata": {},
     "output_type": "display_data"
    }
   ],
   "source": [
    "# 定積分\n",
    "display((x**3 + x**2 + 1).integrate((x, 1, 2)))"
   ]
  },
  {
   "cell_type": "markdown",
   "id": "6b07ca38",
   "metadata": {},
   "source": [
    "## 極限 `limit`"
   ]
  },
  {
   "cell_type": "code",
   "execution_count": 22,
   "id": "e877e351",
   "metadata": {},
   "outputs": [
    {
     "data": {
      "text/latex": [
       "$\\displaystyle \\infty$"
      ],
      "text/plain": [
       "oo"
      ]
     },
     "execution_count": 22,
     "metadata": {},
     "output_type": "execute_result"
    }
   ],
   "source": [
    "(x**2 / x**3).limit(x, 0)"
   ]
  },
  {
   "cell_type": "markdown",
   "id": "ce1bffbb",
   "metadata": {},
   "source": [
    "## 関数たち"
   ]
  },
  {
   "cell_type": "code",
   "execution_count": 23,
   "id": "64fe66fe",
   "metadata": {},
   "outputs": [
    {
     "data": {
      "text/latex": [
       "$\\displaystyle \\sqrt{x}$"
      ],
      "text/plain": [
       "sqrt(x)"
      ]
     },
     "metadata": {},
     "output_type": "display_data"
    }
   ],
   "source": [
    "# 平方根\n",
    "from sympy.functions.elementary.miscellaneous import sqrt\n",
    "\n",
    "display(sqrt(x))"
   ]
  },
  {
   "cell_type": "code",
   "execution_count": 24,
   "id": "00c2c16e",
   "metadata": {},
   "outputs": [
    {
     "data": {
      "text/latex": [
       "$\\displaystyle \\cos{\\left(x \\right)}$"
      ],
      "text/plain": [
       "cos(x)"
      ]
     },
     "metadata": {},
     "output_type": "display_data"
    },
    {
     "data": {
      "text/latex": [
       "$\\displaystyle - \\sin{\\left(x \\right)}$"
      ],
      "text/plain": [
       "-sin(x)"
      ]
     },
     "metadata": {},
     "output_type": "display_data"
    },
    {
     "data": {
      "text/latex": [
       "$\\displaystyle \\tan^{2}{\\left(x \\right)} + 1$"
      ],
      "text/plain": [
       "tan(x)**2 + 1"
      ]
     },
     "metadata": {},
     "output_type": "display_data"
    }
   ],
   "source": [
    "# 三角関数\n",
    "from sympy.functions.elementary.trigonometric import sin, cos, tan\n",
    "\n",
    "display(sin(x).diff())\n",
    "display(cos(x).diff())\n",
    "display(tan(x).diff())"
   ]
  },
  {
   "cell_type": "code",
   "execution_count": 25,
   "id": "9981eaee",
   "metadata": {},
   "outputs": [
    {
     "data": {
      "text/latex": [
       "$\\displaystyle \\frac{1}{x}$"
      ],
      "text/plain": [
       "1/x"
      ]
     },
     "metadata": {},
     "output_type": "display_data"
    },
    {
     "data": {
      "text/latex": [
       "$\\displaystyle e^{x}$"
      ],
      "text/plain": [
       "exp(x)"
      ]
     },
     "metadata": {},
     "output_type": "display_data"
    }
   ],
   "source": [
    "# 指数関数、対数関数\n",
    "from sympy.functions.elementary.exponential import exp, log\n",
    "\n",
    "display(log(x).diff())\n",
    "display(exp(x).diff())"
   ]
  },
  {
   "cell_type": "markdown",
   "id": "efac0f3b",
   "metadata": {},
   "source": [
    "## 一致 `equals`"
   ]
  },
  {
   "cell_type": "code",
   "execution_count": 26,
   "id": "c95eee92",
   "metadata": {},
   "outputs": [
    {
     "data": {
      "text/plain": [
       "True"
      ]
     },
     "execution_count": 26,
     "metadata": {},
     "output_type": "execute_result"
    }
   ],
   "source": [
    "a = cos(x)**2 - sin(x)**2\n",
    "b = cos(2*x)\n",
    "a.equals(b)"
   ]
  },
  {
   "cell_type": "markdown",
   "id": "d2ad45b2",
   "metadata": {},
   "source": [
    "## 評価 `evalf`"
   ]
  },
  {
   "cell_type": "code",
   "execution_count": 27,
   "id": "c14afbc6",
   "metadata": {},
   "outputs": [
    {
     "data": {
      "text/latex": [
       "$\\displaystyle 2 \\sqrt{2}$"
      ],
      "text/plain": [
       "2*sqrt(2)"
      ]
     },
     "metadata": {},
     "output_type": "display_data"
    },
    {
     "data": {
      "text/latex": [
       "$\\displaystyle 2.82842712474619$"
      ],
      "text/plain": [
       "2.82842712474619"
      ]
     },
     "metadata": {},
     "output_type": "display_data"
    },
    {
     "data": {
      "text/latex": [
       "$\\displaystyle 2.8284271247461900976033774484193961571393437507539$"
      ],
      "text/plain": [
       "2.8284271247461900976033774484193961571393437507539"
      ]
     },
     "metadata": {},
     "output_type": "display_data"
    }
   ],
   "source": [
    "expr = sqrt(8)\n",
    "display(expr)\n",
    "display(expr.evalf())\n",
    "# 桁数を指定可能\n",
    "display(expr.evalf(50))"
   ]
  },
  {
   "cell_type": "markdown",
   "id": "efb767c3",
   "metadata": {},
   "source": [
    "## 級数展開 `series`"
   ]
  },
  {
   "cell_type": "code",
   "execution_count": 28,
   "id": "d8776bae",
   "metadata": {},
   "outputs": [
    {
     "data": {
      "text/latex": [
       "$\\displaystyle 1 - \\frac{x^{2}}{2} + \\frac{x^{4}}{24} + O\\left(x^{6}\\right)$"
      ],
      "text/plain": [
       "1 - x**2/2 + x**4/24 + O(x**6)"
      ]
     },
     "metadata": {},
     "output_type": "display_data"
    },
    {
     "data": {
      "text/latex": [
       "$\\displaystyle x - \\frac{x^{3}}{6} + \\frac{x^{5}}{120} - \\frac{x^{7}}{5040} + O\\left(x^{8}\\right)$"
      ],
      "text/plain": [
       "x - x**3/6 + x**5/120 - x**7/5040 + O(x**8)"
      ]
     },
     "metadata": {},
     "output_type": "display_data"
    }
   ],
   "source": [
    "display(cos(x).series(x))\n",
    "display(sin(x).series(x, n=8))"
   ]
  },
  {
   "cell_type": "markdown",
   "id": "adb30f52",
   "metadata": {},
   "source": [
    "## 微分方程式"
   ]
  },
  {
   "cell_type": "markdown",
   "id": "d6963f9f",
   "metadata": {},
   "source": [
    "$y'' - y = e^t$を解く"
   ]
  },
  {
   "cell_type": "code",
   "execution_count": 29,
   "id": "cbf0a362",
   "metadata": {},
   "outputs": [
    {
     "data": {
      "text/latex": [
       "$\\displaystyle - y{\\left(t \\right)} + \\frac{d^{2}}{d t^{2}} y{\\left(t \\right)} = e^{t}$"
      ],
      "text/plain": [
       "Eq(-y(t) + Derivative(y(t), (t, 2)), exp(t))"
      ]
     },
     "metadata": {},
     "output_type": "display_data"
    },
    {
     "data": {
      "text/latex": [
       "$\\displaystyle y{\\left(t \\right)} = C_{2} e^{- t} + \\left(C_{1} + \\frac{t}{2}\\right) e^{t}$"
      ],
      "text/plain": [
       "Eq(y(t), C2*exp(-t) + (C1 + t/2)*exp(t))"
      ]
     },
     "metadata": {},
     "output_type": "display_data"
    }
   ],
   "source": [
    "from sympy.core.function import Function\n",
    "from sympy.solvers.ode.ode import dsolve\n",
    "\n",
    "t = Symbol('t')\n",
    "# 関数の定義は、`Function`あるいは\n",
    "y = Function('y')\n",
    "# cls=Functionで可能\n",
    "y = symbols('y', cls=Function)\n",
    "\n",
    "expr = Eq(y(t).diff(t, t) - y(t), exp(t))\n",
    "display(expr)\n",
    "display(dsolve(expr))"
   ]
  },
  {
   "cell_type": "markdown",
   "id": "f69400b4",
   "metadata": {},
   "source": [
    "# 行列"
   ]
  },
  {
   "cell_type": "markdown",
   "id": "d1d51b79",
   "metadata": {},
   "source": [
    "## 定義"
   ]
  },
  {
   "cell_type": "code",
   "execution_count": 30,
   "id": "2b2b6d16",
   "metadata": {},
   "outputs": [
    {
     "data": {
      "text/latex": [
       "$\\displaystyle \\left[\\begin{matrix}1 & 2\\\\3 & 4\\end{matrix}\\right]$"
      ],
      "text/plain": [
       "Matrix([\n",
       "[1, 2],\n",
       "[3, 4]])"
      ]
     },
     "metadata": {},
     "output_type": "display_data"
    }
   ],
   "source": [
    "from sympy.matrices.dense import Matrix\n",
    "\n",
    "mat = Matrix([[1, 2], [3, 4]])\n",
    "display(mat)"
   ]
  },
  {
   "cell_type": "markdown",
   "id": "585bb0e7",
   "metadata": {},
   "source": [
    "## 求解"
   ]
  },
  {
   "cell_type": "markdown",
   "id": "b83a8aed",
   "metadata": {},
   "source": [
    "$MX = Y$ を解く"
   ]
  },
  {
   "cell_type": "code",
   "execution_count": 31,
   "id": "7a1a541f",
   "metadata": {
    "scrolled": true
   },
   "outputs": [
    {
     "data": {
      "text/latex": [
       "$\\displaystyle \\left\\{\\left( -1, \\  -1, \\  4\\right)\\right\\}$"
      ],
      "text/plain": [
       "{(-1, -1, 4)}"
      ]
     },
     "metadata": {},
     "output_type": "display_data"
    }
   ],
   "source": [
    "from sympy.solvers.solveset import linsolve\n",
    "\n",
    "x, y, z = symbols('x y z')\n",
    "\n",
    "M = Matrix([[1,5,3],[4,5,6], [7,8,9]])\n",
    "Y = Matrix([[6, 15, 21]]).T\n",
    "\n",
    "display(linsolve((M, Y), x, y, z))"
   ]
  },
  {
   "cell_type": "markdown",
   "id": "efdfd89e",
   "metadata": {},
   "source": [
    "## 固有値 `eigenvals`"
   ]
  },
  {
   "cell_type": "code",
   "execution_count": 32,
   "id": "9f56fc17",
   "metadata": {},
   "outputs": [
    {
     "data": {
      "text/plain": [
       "{5/2 - sqrt(33)/2: 1, 5/2 + sqrt(33)/2: 1}"
      ]
     },
     "metadata": {},
     "output_type": "display_data"
    }
   ],
   "source": [
    "mat = Matrix([[1, 2], [3, 4]])\n",
    "display(mat.eigenvals())"
   ]
  },
  {
   "cell_type": "markdown",
   "id": "eddc5e86",
   "metadata": {},
   "source": [
    "# 仮定"
   ]
  },
  {
   "cell_type": "markdown",
   "id": "50b72bec",
   "metadata": {},
   "source": [
    "`Symbol`や`symbols`で宣言する変数は基本的に$\\mathbb{C}$の要素とされる。"
   ]
  },
  {
   "cell_type": "code",
   "execution_count": 33,
   "id": "79bab6a9",
   "metadata": {},
   "outputs": [],
   "source": [
    "from sympy.core.symbol import symbols\n",
    "\n",
    "# 正の実数を仮定\n",
    "x = symbols('x', positive=True)\n",
    "# 実数を仮定\n",
    "y = symbols('y', real=True)\n",
    "# 仮定なし\n",
    "z = symbols('z')"
   ]
  },
  {
   "cell_type": "code",
   "execution_count": 34,
   "id": "45ebc57b",
   "metadata": {},
   "outputs": [
    {
     "data": {
      "text/latex": [
       "$\\displaystyle i \\sqrt{x}$"
      ],
      "text/plain": [
       "I*sqrt(x)"
      ]
     },
     "metadata": {},
     "output_type": "display_data"
    },
    {
     "data": {
      "text/latex": [
       "$\\displaystyle \\sqrt{- y}$"
      ],
      "text/plain": [
       "sqrt(-y)"
      ]
     },
     "metadata": {},
     "output_type": "display_data"
    },
    {
     "data": {
      "text/latex": [
       "$\\displaystyle \\sqrt{- z}$"
      ],
      "text/plain": [
       "sqrt(-z)"
      ]
     },
     "metadata": {},
     "output_type": "display_data"
    }
   ],
   "source": [
    "display(sqrt(-x))\n",
    "display(sqrt(-y))\n",
    "display(sqrt(-z))"
   ]
  },
  {
   "cell_type": "markdown",
   "id": "8bfe5507",
   "metadata": {},
   "source": [
    "# 表示"
   ]
  },
  {
   "cell_type": "markdown",
   "id": "7b781e24",
   "metadata": {},
   "source": [
    "## おまじない\n",
    "表示方法の最適化。最初に実行しておくとベター"
   ]
  },
  {
   "cell_type": "code",
   "execution_count": 35,
   "id": "4ce869c7",
   "metadata": {},
   "outputs": [],
   "source": [
    "from sympy.interactive.printing import init_printing\n",
    "\n",
    "init_printing(use_unicode=True)"
   ]
  },
  {
   "cell_type": "markdown",
   "id": "a1a3b428",
   "metadata": {},
   "source": [
    "## Latex\n",
    "数式 -> Latex 変換"
   ]
  },
  {
   "cell_type": "code",
   "execution_count": 36,
   "id": "d3b3a7f1",
   "metadata": {},
   "outputs": [
    {
     "name": "stdout",
     "output_type": "stream",
     "text": [
      "x^{3} + x^{2}\n"
     ]
    }
   ],
   "source": [
    "from sympy.printing.latex import latex\n",
    "\n",
    "print(latex(x**3 + x**2))"
   ]
  },
  {
   "cell_type": "markdown",
   "id": "e6ac80f2",
   "metadata": {},
   "source": [
    "# 数論"
   ]
  },
  {
   "cell_type": "markdown",
   "id": "94ef02d5",
   "metadata": {},
   "source": [
    "## 素因数分解 `factorint`"
   ]
  },
  {
   "cell_type": "code",
   "execution_count": 37,
   "id": "f483148e",
   "metadata": {},
   "outputs": [
    {
     "data": {
      "image/png": "[encoded data removed]",
      "text/latex": [
       "$\\displaystyle \\left\\{ 2 : 3, \\  5 : 1, \\  7 : 1, \\  101 : 1\\right\\}$"
      ],
      "text/plain": [
       "{2: 3, 5: 1, 7: 1, 101: 1}"
      ]
     },
     "metadata": {},
     "output_type": "display_data"
    }
   ],
   "source": [
    "from sympy.ntheory.factor_ import factorint\n",
    "\n",
    "display(factorint(2**3 * 5*7 * 101))"
   ]
  },
  {
   "cell_type": "markdown",
   "id": "4cf9e8f3",
   "metadata": {},
   "source": [
    "## 素数判定 `isprime`"
   ]
  },
  {
   "cell_type": "code",
   "execution_count": 38,
   "id": "058ecfe6",
   "metadata": {},
   "outputs": [
    {
     "data": {
      "text/plain": [
       "True"
      ]
     },
     "metadata": {},
     "output_type": "display_data"
    }
   ],
   "source": [
    "from sympy.ntheory.primetest import isprime\n",
    "\n",
    "display(isprime(7))"
   ]
  },
  {
   "cell_type": "markdown",
   "id": "a90591bf",
   "metadata": {},
   "source": [
    "## 素数列挙 `primerange`\n",
    "`primerange`, `sieve.primerange` は共に素数を列挙するが、前者は得られた素数を記録しない。\n",
    "後者は必要となる素数はすべて記録するため、メモリ使用量に注意する必要があることと、実装上の問題から一定以上の値はサポートしない。\n",
    "効率的に動作させるためには、`sieve.extend`の使用を検討すること。"
   ]
  },
  {
   "cell_type": "code",
   "execution_count": 39,
   "id": "eaa236db",
   "metadata": {},
   "outputs": [
    {
     "name": "stdout",
     "output_type": "stream",
     "text": [
      "5\n",
      "7\n",
      "11\n",
      "13\n",
      "17\n",
      "19\n"
     ]
    }
   ],
   "source": [
    "from sympy.ntheory.generate import sieve, primerange\n",
    "\n",
    "sieve.extend(20) # 篩の拡張(オプション)\n",
    "for p in primerange(5, 20):\n",
    "    print(p)"
   ]
  },
  {
   "cell_type": "markdown",
   "id": "27730d6d",
   "metadata": {},
   "source": [
    "## 剰余方程式の求解"
   ]
  },
  {
   "cell_type": "code",
   "execution_count": 40,
   "id": "b39658ca",
   "metadata": {},
   "outputs": [
    {
     "data": {
      "image/png": "[encoded data removed]",
      "text/latex": [
       "$\\displaystyle 4$"
      ],
      "text/plain": [
       "4"
      ]
     },
     "metadata": {},
     "output_type": "display_data"
    },
    {
     "data": {
      "image/png": "[encoded data removed]",
      "text/latex": [
       "$\\displaystyle 5$"
      ],
      "text/plain": [
       "5"
      ]
     },
     "metadata": {},
     "output_type": "display_data"
    }
   ],
   "source": [
    "from sympy.ntheory.residue_ntheory import sqrt_mod, nthroot_mod\n",
    "\n",
    "# x^2 = 5 (mod 11) を満たすxを返す\n",
    "display(sqrt_mod(5, 11))\n",
    "\n",
    "# x^6 = 11 (mod 37) を満たすxを返す\n",
    "display(nthroot_mod(11, 6, 37))"
   ]
  },
  {
   "cell_type": "markdown",
   "id": "d1579086",
   "metadata": {},
   "source": [
    "1次式と2次式については特別なものが用意されているが、実装場所が分離していて分かりづらい。\n",
    "しかも、入力形式が統一されておらず、1次式は$ax=b$という形に対して、2次式は$ax^2+bx+c=0$という形なので、`linear_congruence(a, b, n) == quadratic_congruence(0, a, -b, n)`となることに注意。"
   ]
  },
  {
   "cell_type": "code",
   "execution_count": 41,
   "id": "14d35a04",
   "metadata": {},
   "outputs": [
    {
     "data": {
      "image/png": "[encoded data removed]",
      "text/latex": [
       "$\\displaystyle \\left[ 8\\right]$"
      ],
      "text/plain": [
       "[8]"
      ]
     },
     "metadata": {},
     "output_type": "display_data"
    },
    {
     "data": {
      "image/png": "[encoded data removed]",
      "text/latex": [
       "$\\displaystyle \\left[ 37, \\  44\\right]$"
      ],
      "text/plain": [
       "[37, 44]"
      ]
     },
     "metadata": {},
     "output_type": "display_data"
    }
   ],
   "source": [
    "from sympy.ntheory.residue_ntheory import quadratic_congruence\n",
    "from sympy.polys.galoistools import linear_congruence\n",
    "\n",
    "# 3x = 11 (mod 13) を満たすxを求める\n",
    "display(linear_congruence(3, 11, 13))\n",
    "\n",
    "# 5x^2 + 7x + 3 = 0 (mod 103) を満たすxを求める\n",
    "display(quadratic_congruence(5, 7, 3, 103))"
   ]
  },
  {
   "cell_type": "markdown",
   "id": "5835b75d",
   "metadata": {},
   "source": [
    "一般の多項式$f(x)$について、$f(x)\\equiv0\\pmod{n}$を満たすxを求める関数は2種類ある。"
   ]
  },
  {
   "cell_type": "code",
   "execution_count": 42,
   "id": "269ec279",
   "metadata": {},
   "outputs": [
    {
     "data": {
      "image/png": "[encoded data removed]",
      "text/latex": [
       "$\\displaystyle \\left[ 1, \\  10\\right]$"
      ],
      "text/plain": [
       "[1, 10]"
      ]
     },
     "metadata": {},
     "output_type": "display_data"
    },
    {
     "data": {
      "image/png": "[encoded data removed]",
      "text/latex": [
       "$\\displaystyle \\left[ 1, \\  10\\right]$"
      ],
      "text/plain": [
       "[1, 10]"
      ]
     },
     "metadata": {},
     "output_type": "display_data"
    }
   ],
   "source": [
    "from sympy.polys.galoistools import gf_csolve\n",
    "from sympy.ntheory.residue_ntheory import polynomial_congruence\n",
    "\n",
    "# 3x^2 + 7x + 2 = 0 (mod 12) を満たすxを返す\n",
    "display(gf_csolve([3, 7, 2], 12))\n",
    "\n",
    "expr = 3*x**2 + 7*x + 2\n",
    "display(polynomial_congruence(expr, 12))"
   ]
  },
  {
   "cell_type": "markdown",
   "id": "e1da120e",
   "metadata": {},
   "source": [
    "## 中国の剰余定理"
   ]
  },
  {
   "cell_type": "markdown",
   "id": "2b70f586",
   "metadata": {},
   "source": [
    "`crt`系と`gf_crt`系があって、`crt`系は整数を扱う前提で動くので、基本的にはこれを使えばよい。"
   ]
  },
  {
   "cell_type": "code",
   "execution_count": 43,
   "id": "2cdb0c4a",
   "metadata": {},
   "outputs": [
    {
     "data": {
      "text/plain": [
       "(mpz(98), 360)"
      ]
     },
     "metadata": {},
     "output_type": "display_data"
    },
    {
     "data": {
      "text/plain": [
       "mpz(98)"
      ]
     },
     "metadata": {},
     "output_type": "display_data"
    }
   ],
   "source": [
    "from sympy.ntheory.modular import crt\n",
    "from sympy.polys.galoistools import gf_crt\n",
    "from sympy.polys.domains import ZZ\n",
    "\n",
    "# x = 3 (mod 5), x = 8 (mod 9), x = 2 (mod 8) を満たすxを答える\n",
    "display(crt([5, 9, 8], [3, 8, 2]))\n",
    "\n",
    "# `crt`と同じだが、引数の順番が異なることに注意\n",
    "display(gf_crt([3, 8, 2], [5, 9, 8], ZZ))"
   ]
  },
  {
   "cell_type": "markdown",
   "id": "2c4e87d8",
   "metadata": {},
   "source": [
    "また、複数回実行する際に効率的に実行できるように、`crt1`, `crt2`が用意されている。"
   ]
  },
  {
   "cell_type": "code",
   "execution_count": 44,
   "id": "b320588e",
   "metadata": {},
   "outputs": [
    {
     "data": {
      "text/plain": [
       "(mpz(98), mpz(360))"
      ]
     },
     "metadata": {},
     "output_type": "display_data"
    },
    {
     "data": {
      "text/plain": [
       "(mpz(331), mpz(360))"
      ]
     },
     "metadata": {},
     "output_type": "display_data"
    },
    {
     "data": {
      "text/plain": [
       "mpz(98)"
      ]
     },
     "metadata": {},
     "output_type": "display_data"
    },
    {
     "data": {
      "text/plain": [
       "mpz(331)"
      ]
     },
     "metadata": {},
     "output_type": "display_data"
    }
   ],
   "source": [
    "from sympy.ntheory.modular import crt1, crt2\n",
    "from sympy.polys.galoistools import gf_crt1, gf_crt2\n",
    "\n",
    "# x = a (mod 5), x = b (mod 9), x = c (mod 8) を満たすxを答える\n",
    "# a,b,c を次々に変えて答えを求める\n",
    "m = [5, 9, 8]\n",
    "k = crt1(m)\n",
    "for v in [[3, 8, 2], [1, 7, 3]]:\n",
    "    display(crt2(m, v, *k))\n",
    "\n",
    "# 同じことが`gf_crt1`, `gf_crt2` でもできる。やはり、引数の順番が異なることに注意。\n",
    "k = gf_crt1(m, ZZ)\n",
    "for v in [[3, 8, 2], [1, 7, 3]]:\n",
    "    display(gf_crt2(v, m, *k, ZZ))"
   ]
  },
  {
   "cell_type": "markdown",
   "id": "9a698f5e",
   "metadata": {},
   "source": [
    "# 雑多"
   ]
  },
  {
   "cell_type": "code",
   "execution_count": 45,
   "id": "34a70458",
   "metadata": {
    "scrolled": true
   },
   "outputs": [
    {
     "data": {
      "image/png": "[encoded data removed]",
      "text/latex": [
       "$\\displaystyle 6$"
      ],
      "text/plain": [
       "6"
      ]
     },
     "metadata": {},
     "output_type": "display_data"
    }
   ],
   "source": [
    "from sympy.functions.combinatorial.factorials import factorial\n",
    "\n",
    "# 階乗\n",
    "display(factorial(3))"
   ]
  },
  {
   "cell_type": "markdown",
   "id": "aa7447df",
   "metadata": {},
   "source": [
    "$100!$ の末尾のゼロの個数を数える。\n",
    "次のように書くことが考えられるが、直接的な関数が用意されている。\n",
    "内部で実際に$n!$を計算する必要がなく、$n$が大きくなっても対応できる。"
   ]
  },
  {
   "cell_type": "code",
   "execution_count": 46,
   "id": "a079f05e",
   "metadata": {},
   "outputs": [
    {
     "data": {
      "image/png": "[encoded data removed]",
      "text/latex": [
       "$\\displaystyle 24$"
      ],
      "text/plain": [
       "24"
      ]
     },
     "metadata": {},
     "output_type": "display_data"
    },
    {
     "data": {
      "image/png": "[encoded data removed]",
      "text/latex": [
       "$\\displaystyle 24$"
      ],
      "text/plain": [
       "24"
      ]
     },
     "metadata": {},
     "output_type": "display_data"
    }
   ],
   "source": [
    "from sympy.ntheory.factor_ import multiplicity_in_factorial\n",
    "\n",
    "# 愚直な方法\n",
    "factors = factorint(factorial(100))\n",
    "display(min(factors[2], factors[5]))\n",
    "\n",
    "# 賢いやり方\n",
    "display(multiplicity_in_factorial(10, 100))"
   ]
  },
  {
   "cell_type": "markdown",
   "id": "e81e6cae",
   "metadata": {},
   "source": [
    "式の最小値"
   ]
  },
  {
   "cell_type": "code",
   "execution_count": 47,
   "id": "4edd6d99",
   "metadata": {},
   "outputs": [
    {
     "data": {
      "image/png": "[encoded data removed]",
      "text/latex": [
       "$\\displaystyle \\left\\{\\sqrt[3]{2}\\right\\}$"
      ],
      "text/plain": [
       "⎧3 ___⎫\n",
       "⎨╲╱ 2 ⎬\n",
       "⎩     ⎭"
      ]
     },
     "metadata": {},
     "output_type": "display_data"
    },
    {
     "data": {
      "image/png": "[encoded data removed]",
      "text/latex": [
       "$\\displaystyle \\frac{3 \\cdot \\sqrt[3]{2}}{2}$"
      ],
      "text/plain": [
       "  3 ___\n",
       "3⋅╲╱ 2 \n",
       "───────\n",
       "   2   "
      ]
     },
     "metadata": {},
     "output_type": "display_data"
    }
   ],
   "source": [
    "from sympy.calculus.util import maximum, minimum\n",
    "from sympy.sets.sets import Interval\n",
    "from sympy.solvers.solveset import solveset\n",
    "\n",
    "x = symbols('x', real=True)\n",
    "\n",
    "# x + 1/x**2 の正の実数の範囲での最小値とそのときのxの値を求める\n",
    "expr = x + 1 / x**2\n",
    "m = minimum(expr, x, Interval(0, oo))\n",
    "\n",
    "display(solveset(Eq(expr, m), x, Interval(0, oo)), m)"
   ]
  }
 ],
 "metadata": {
  "kernelspec": {
   "display_name": "Python 3 (ipykernel)",
   "language": "python",
   "name": "python3"
  },
  "language_info": {
   "codemirror_mode": {
    "name": "ipython",
    "version": 3
   },
   "file_extension": ".py",
   "mimetype": "text/x-python",
   "name": "python",
   "nbconvert_exporter": "python",
   "pygments_lexer": "ipython3",
   "version": "3.10.11"
  }
 },
 "nbformat": 4,
 "nbformat_minor": 5
}
